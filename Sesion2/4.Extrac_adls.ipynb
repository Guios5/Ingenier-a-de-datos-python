{
 "cells": [
  {
   "cell_type": "code",
   "execution_count": null,
   "id": "ac453116",
   "metadata": {},
   "outputs": [],
   "source": [
    "1 ! pip install  azure"
   ]
  },
  {
   "cell_type": "code",
   "execution_count": null,
   "id": "c9ebdfbc",
   "metadata": {},
   "outputs": [],
   "source": [
    "storage_account = \"sakrmm01\"\n",
    "sas_token"
   ]
  }
 ],
 "metadata": {
  "language_info": {
   "name": "python"
  }
 },
 "nbformat": 4,
 "nbformat_minor": 5
}
