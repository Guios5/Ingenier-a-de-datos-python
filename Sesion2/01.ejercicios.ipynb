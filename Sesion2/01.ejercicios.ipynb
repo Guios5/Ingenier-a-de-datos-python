{
 "cells": [
  {
   "cell_type": "code",
   "execution_count": 1,
   "metadata": {},
   "outputs": [],
   "source": [
    "import random"
   ]
  },
  {
   "cell_type": "code",
   "execution_count": 15,
   "metadata": {},
   "outputs": [
    {
     "name": "stdout",
     "output_type": "stream",
     "text": [
      "[11, 79, 13, 90, 28, 79, 53, 43, 60, 55, 77, 45, 98, 42, 26, 85, 10, 97, 63, 43, 10, 11, 52, 80, 73, 4, 100, 92, 65, 12, 52, 13, 8, 48, 67, 84, 73, 50, 39, 89, 52, 7, 16, 16, 68, 100, 3, 7, 5, 64, 36, 97, 3, 72, 7, 15, 64, 81, 18, 83, 96, 79, 45, 80, 69, 95, 76, 64, 33, 45, 55, 4, 72, 61, 57, 49, 19, 60, 97, 63, 44, 79, 48, 86, 43, 92, 52, 6, 47, 2, 34, 42, 77, 47, 21, 47, 8, 54, 92]\n"
     ]
    }
   ],
   "source": [
    "lista = [random.randint(1,100) for i in range(1,100)]\n",
    "print(lista)"
   ]
  },
  {
   "cell_type": "code",
   "execution_count": null,
   "metadata": {},
   "outputs": [
    {
     "name": "stdout",
     "output_type": "stream",
     "text": [
      "5073\n"
     ]
    }
   ],
   "source": [
    "# funcion para sumar numeros pares\n",
    "def suma(lista):\n",
    "    sum=0\n",
    "    for i in lista:\n",
    "        if i % 2 == 0:\n",
    "            sum=sum + i\n",
    "    return sum\n",
    "print(sum(lista))"
   ]
  },
  {
   "cell_type": "code",
   "execution_count": 26,
   "metadata": {},
   "outputs": [
    {
     "name": "stdout",
     "output_type": "stream",
     "text": [
      "Valor Encontrado\n"
     ]
    }
   ],
   "source": [
    "# funcion para buscar un elemento en una lista\n",
    "def buscar_elemento(lista, elemento):\n",
    "    for elem in lista:\n",
    "        if elem == elemento:\n",
    "            return \"Valor Encontrado\"\n",
    "    return \"Valor no encontrado\"\n",
    "print(buscar_elemento(lista,3))"
   ]
  },
  {
   "cell_type": "code",
   "execution_count": 29,
   "metadata": {},
   "outputs": [
    {
     "name": "stdout",
     "output_type": "stream",
     "text": [
      "{'python': 3, 'java': 2, 'c++': 1}\n"
     ]
    }
   ],
   "source": [
    "# Crear una función que reciba una lista de palabras y retorne un diccionario con \n",
    "# la cantidad de veces que aparece cada palabra.\n",
    "def contar_palabras(lista):\n",
    "    con={}\n",
    "    for palabra in lista:\n",
    "        if palabra in con:\n",
    "            con[palabra] = con[palabra]+1\n",
    "        else:\n",
    "            con[palabra]=1\n",
    "    return con\n",
    "\n",
    "palabras = [\"python\", \"java\", \"python\", \"c++\", \"python\", \"java\"]\n",
    "resultado = contar_palabras(palabras)\n",
    "print(resultado)"
   ]
  },
  {
   "cell_type": "code",
   "execution_count": 33,
   "metadata": {},
   "outputs": [
    {
     "name": "stdout",
     "output_type": "stream",
     "text": [
      "Pedro\n"
     ]
    }
   ],
   "source": [
    "# Crear una función que reciba un diccionario donde las llaves sean nombres y los valores sean notas.\n",
    "# Debe retornar el nombre del alumno con la nota más alta\n",
    "def mejor_alumno(diccionario):\n",
    "    \"\"\"Forma más simple y eficiente usando max()\"\"\"\n",
    "    if not notas:\n",
    "        return None\n",
    "    \n",
    "    return max(notas, key=notas.get)\n",
    "\n",
    "notas = {\"Ana\": 15, \"Luis\": 18, \"María\": 17, \"Pedro\": 19}\n",
    "print(mejor_alumno(notas))  "
   ]
  }
 ],
 "metadata": {
  "kernelspec": {
   "display_name": "Python 3",
   "language": "python",
   "name": "python3"
  },
  "language_info": {
   "codemirror_mode": {
    "name": "ipython",
    "version": 3
   },
   "file_extension": ".py",
   "mimetype": "text/x-python",
   "name": "python",
   "nbconvert_exporter": "python",
   "pygments_lexer": "ipython3",
   "version": "3.12.1"
  },
  "orig_nbformat": 4
 },
 "nbformat": 4,
 "nbformat_minor": 2
}
