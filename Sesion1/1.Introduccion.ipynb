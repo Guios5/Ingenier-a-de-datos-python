{
 "cells": [
  {
   "cell_type": "code",
   "execution_count": 4,
   "id": "1759acde",
   "metadata": {},
   "outputs": [
    {
     "name": "stdout",
     "output_type": "stream",
     "text": [
      "hola mundo\n"
     ]
    }
   ],
   "source": [
    "print('hola mundo')"
   ]
  },
  {
   "cell_type": "code",
   "execution_count": 7,
   "id": "e9fd13e9",
   "metadata": {},
   "outputs": [
    {
     "name": "stdout",
     "output_type": "stream",
     "text": [
      "es menor a 8\n"
     ]
    }
   ],
   "source": [
    "x=5\n",
    "if x>8:\n",
    "    print(\"Es mayor a 8\")\n",
    "else:\n",
    "    print(\"es menor a 8\")\n"
   ]
  },
  {
   "cell_type": "code",
   "execution_count": 9,
   "id": "d11a715d",
   "metadata": {},
   "outputs": [
    {
     "name": "stdout",
     "output_type": "stream",
     "text": [
      "<class 'str'>\n"
     ]
    }
   ],
   "source": [
    "var1=\"\"\n",
    "var2=45\n",
    "var3=\"Hazlo con datos\"\n",
    "\n",
    "print(type(var3))\n"
   ]
  },
  {
   "cell_type": "code",
   "execution_count": 10,
   "id": "e5ce75b4",
   "metadata": {},
   "outputs": [
    {
     "name": "stdout",
     "output_type": "stream",
     "text": [
      "manzana\n",
      "platano\n",
      "sandia\n"
     ]
    }
   ],
   "source": [
    "x, y ,z =\"manzana\", \"platano\",\"sandia\"\n",
    "print(x)\n",
    "print(y)\n",
    "print(z)"
   ]
  },
  {
   "cell_type": "code",
   "execution_count": 11,
   "id": "a3c5ce62",
   "metadata": {},
   "outputs": [
    {
     "name": "stdout",
     "output_type": "stream",
     "text": [
      "[3, 'manzana', [1, 5, 'platano']]\n"
     ]
    }
   ],
   "source": [
    "lista1=[]\n",
    "\n",
    "lista2=[3,5,7]\n",
    "\n",
    "lista3=[\"manzana\", \"platano\"]\n",
    "\n",
    "lista4=[3,\"manzana\",3.4]\n",
    "\n",
    "lista5=[3,\"manzana\",[1,5,\"platano\"]]\n",
    "\n",
    "print(lista5)\n",
    "\n"
   ]
  },
  {
   "cell_type": "code",
   "execution_count": 13,
   "id": "4853eca5",
   "metadata": {},
   "outputs": [
    {
     "name": "stdout",
     "output_type": "stream",
     "text": [
      "platano\n"
     ]
    }
   ],
   "source": [
    "#operador de indice[]\n",
    "\n",
    "print(lista5[2][2])"
   ]
  },
  {
   "cell_type": "code",
   "execution_count": 14,
   "id": "c4587d64",
   "metadata": {},
   "outputs": [
    {
     "name": "stdout",
     "output_type": "stream",
     "text": [
      "[1, 5, 'platano']\n"
     ]
    }
   ],
   "source": [
    "print(lista5[-1])"
   ]
  },
  {
   "cell_type": "code",
   "execution_count": 15,
   "id": "503eb663",
   "metadata": {},
   "outputs": [
    {
     "name": "stdout",
     "output_type": "stream",
     "text": [
      "[3, 4, 5]\n"
     ]
    }
   ],
   "source": [
    "lista6=[1,2,3,4,5,6,7,8,9]\n",
    "print(lista6[2:5])"
   ]
  },
  {
   "cell_type": "code",
   "execution_count": 16,
   "id": "13cce879",
   "metadata": {},
   "outputs": [
    {
     "name": "stdout",
     "output_type": "stream",
     "text": [
      "[6, 7, 8, 9]\n"
     ]
    }
   ],
   "source": [
    "print(lista6[5:])"
   ]
  },
  {
   "cell_type": "code",
   "execution_count": 17,
   "id": "1940f101",
   "metadata": {},
   "outputs": [
    {
     "name": "stdout",
     "output_type": "stream",
     "text": [
      "[1, 2, 3, 4, 10, 6, 7, 8, 9]\n"
     ]
    }
   ],
   "source": [
    "lista6[4]= 10\n",
    "print(lista6)"
   ]
  },
  {
   "cell_type": "code",
   "execution_count": 18,
   "id": "59bead81",
   "metadata": {},
   "outputs": [
    {
     "name": "stdout",
     "output_type": "stream",
     "text": [
      "[1, 2, 3, 4, 10, 6, 7, 8, 9, 11]\n"
     ]
    }
   ],
   "source": [
    "lista6.append(11)\n",
    "print(lista6)"
   ]
  },
  {
   "cell_type": "code",
   "execution_count": 19,
   "id": "ff41bd53",
   "metadata": {},
   "outputs": [],
   "source": [
    "lista_aux=[12,13,14]"
   ]
  },
  {
   "cell_type": "code",
   "execution_count": 20,
   "id": "0e405793",
   "metadata": {},
   "outputs": [
    {
     "name": "stdout",
     "output_type": "stream",
     "text": [
      "[1, 2, 3, 4, 10, 6, 7, 8, 9, 11, [12, 13, 14]]\n"
     ]
    }
   ],
   "source": [
    "lista6.append(lista_aux)\n",
    "print(lista6)\n"
   ]
  },
  {
   "cell_type": "code",
   "execution_count": 21,
   "id": "d28d2248",
   "metadata": {},
   "outputs": [
    {
     "data": {
      "text/plain": [
       "[1, 2, 3, 4, 10, 6, 7, 8, 9, 11, [12, 13, 14], 12, 13, 14]"
      ]
     },
     "execution_count": 21,
     "metadata": {},
     "output_type": "execute_result"
    }
   ],
   "source": [
    "lista6.extend(lista_aux)\n",
    "lista6"
   ]
  },
  {
   "cell_type": "code",
   "execution_count": 22,
   "id": "3144bda9",
   "metadata": {},
   "outputs": [
    {
     "data": {
      "text/plain": [
       "[1, 2, 3, 4, 10, 6, 7, 8, 9, 11, 12, 13, 14]"
      ]
     },
     "execution_count": 22,
     "metadata": {},
     "output_type": "execute_result"
    }
   ],
   "source": [
    "lista6.remove([12,13,14])\n",
    "lista6"
   ]
  },
  {
   "cell_type": "code",
   "execution_count": null,
   "id": "1e327f0b",
   "metadata": {},
   "outputs": [],
   "source": []
  }
 ],
 "metadata": {
  "kernelspec": {
   "display_name": "Python 3",
   "language": "python",
   "name": "python3"
  },
  "language_info": {
   "codemirror_mode": {
    "name": "ipython",
    "version": 3
   },
   "file_extension": ".py",
   "mimetype": "text/x-python",
   "name": "python",
   "nbconvert_exporter": "python",
   "pygments_lexer": "ipython3",
   "version": "3.12.1"
  }
 },
 "nbformat": 4,
 "nbformat_minor": 5
}
